{
 "cells": [
  {
   "cell_type": "markdown",
   "id": "a73bac8d-bc4e-466d-8b4e-86e56bbda937",
   "metadata": {},
   "source": [
    "# 1. Setup and Configuration\n",
    "This notebook loads cache acces data from a CSV, identifies the most popular objects, filters the data to include only top-n popular objects, and saves the processed data"
   ]
  },
  {
   "cell_type": "code",
   "execution_count": 1,
   "id": "284ab25a-1487-4769-a111-05c0056480a9",
   "metadata": {},
   "outputs": [],
   "source": [
    "import pandas as pd\n",
    "from collections import Counter\n",
    "import pickle\n",
    "import os"
   ]
  },
  {
   "cell_type": "code",
   "execution_count": 2,
   "id": "5a401754-928f-4511-9054-309e3ce85f00",
   "metadata": {},
   "outputs": [],
   "source": [
    "CSV_FILE_PATH = 'data.csv'\n",
    "NUM_POPULAR_OBJECTS = 15000000\n",
    "PROCESSED_DATA_PICKLE_PATH = 'processed_cache_data.pkl'\n",
    "MAX_FILTERED_SEQUENCE_LENGTH = 15000"
   ]
  },
  {
   "cell_type": "markdown",
   "id": "5838ad45-e9e5-42f7-b1d0-fec4108b929d",
   "metadata": {},
   "source": [
    "# 2. Load Data from CSV\n",
    "- Reads the CSV file which has no header and two columns: `timestamp`, `obj_id`\n",
    "- Sorts the data by timestamp to maintain the correct sequence order"
   ]
  },
  {
   "cell_type": "code",
   "execution_count": 3,
   "id": "14f194b4-f078-48b3-ab3d-98424d41efe0",
   "metadata": {},
   "outputs": [
    {
     "name": "stdout",
     "output_type": "stream",
     "text": [
      "Loading data from data.csv...\n",
      "Loaded 45623306 object accesses.\n"
     ]
    }
   ],
   "source": [
    "print(f\"Loading data from {CSV_FILE_PATH}...\")\n",
    "df = pd.read_csv(CSV_FILE_PATH, header=None, names=['timestamp', 'obj_id'])\n",
    "df = df.sort_values(by='timestamp')\n",
    "all_obj_ids_sequence = df['obj_id'].tolist()\n",
    "print(f\"Loaded {len(all_obj_ids_sequence)} object accesses.\")\n",
    "if not all_obj_ids_sequence:\n",
    "    print(\"CSV file loaded, but no objects IDs found. Please check the CSV content.\")\n",
    "    raise ValueError(\"No object IDs found in the CSV.\")"
   ]
  },
  {
   "cell_type": "code",
   "execution_count": 4,
   "id": "7aa88117-4f96-45e4-92a2-24f27c995223",
   "metadata": {},
   "outputs": [
    {
     "data": {
      "text/html": [
       "<div>\n",
       "<style scoped>\n",
       "    .dataframe tbody tr th:only-of-type {\n",
       "        vertical-align: middle;\n",
       "    }\n",
       "\n",
       "    .dataframe tbody tr th {\n",
       "        vertical-align: top;\n",
       "    }\n",
       "\n",
       "    .dataframe thead th {\n",
       "        text-align: right;\n",
       "    }\n",
       "</style>\n",
       "<table border=\"1\" class=\"dataframe\">\n",
       "  <thead>\n",
       "    <tr style=\"text-align: right;\">\n",
       "      <th></th>\n",
       "      <th>timestamp</th>\n",
       "      <th>obj_id</th>\n",
       "    </tr>\n",
       "  </thead>\n",
       "  <tbody>\n",
       "    <tr>\n",
       "      <th>0</th>\n",
       "      <td>0</td>\n",
       "      <td>9923303287488963378</td>\n",
       "    </tr>\n",
       "    <tr>\n",
       "      <th>1</th>\n",
       "      <td>58</td>\n",
       "      <td>9939978422402668152</td>\n",
       "    </tr>\n",
       "    <tr>\n",
       "      <th>2</th>\n",
       "      <td>65</td>\n",
       "      <td>4704144935105825719</td>\n",
       "    </tr>\n",
       "    <tr>\n",
       "      <th>3</th>\n",
       "      <td>66</td>\n",
       "      <td>4526530743497726240</td>\n",
       "    </tr>\n",
       "    <tr>\n",
       "      <th>5</th>\n",
       "      <td>67</td>\n",
       "      <td>1196122231523595215</td>\n",
       "    </tr>\n",
       "  </tbody>\n",
       "</table>\n",
       "</div>"
      ],
      "text/plain": [
       "   timestamp               obj_id\n",
       "0          0  9923303287488963378\n",
       "1         58  9939978422402668152\n",
       "2         65  4704144935105825719\n",
       "3         66  4526530743497726240\n",
       "5         67  1196122231523595215"
      ]
     },
     "execution_count": 4,
     "metadata": {},
     "output_type": "execute_result"
    }
   ],
   "source": [
    "df.head()"
   ]
  },
  {
   "cell_type": "markdown",
   "id": "2f1aaa3b-b91d-4260-93b5-c7209dba7053",
   "metadata": {},
   "source": [
    "# 3. Identify Most Popular Objects\n",
    "- Count the frequency of each object ID\n",
    "- Selects the top `NUM_POPULAR_OBJECTS`"
   ]
  },
  {
   "cell_type": "code",
   "execution_count": 5,
   "id": "0ae37e07-5835-4722-9013-7d87468d0054",
   "metadata": {},
   "outputs": [
    {
     "name": "stdout",
     "output_type": "stream",
     "text": [
      "Identifying the top 15000000 most popular objects...\n",
      "Found 12262537 popular objects (target was 15000000).\n",
      "First 10 popular objects: [1792336380206, 2980637468929, 3979782410864, 4040846203747, 8889298622010, 9019821228723, 9413421785408, 11933909851519, 12933419578731, 14438286000342]\n"
     ]
    }
   ],
   "source": [
    "if all_obj_ids_sequence:\n",
    "    print(f\"Identifying the top {NUM_POPULAR_OBJECTS} most popular objects...\")\n",
    "    obj_id_counts = Counter(all_obj_ids_sequence)\n",
    "\n",
    "    top_popular_objects_with_counts = obj_id_counts.most_common(NUM_POPULAR_OBJECTS)\n",
    "    initial_top_popular_object_ids_set = {obj_id for obj_id, count in top_popular_objects_with_counts}\n",
    "    sorted_popular_object_ids_list = sorted(list(initial_top_popular_object_ids_set))\n",
    "    print(f\"Found {len(sorted_popular_object_ids_list)} popular objects (target was {NUM_POPULAR_OBJECTS}).\")\n",
    "    print(\"First 10 popular objects:\", sorted_popular_object_ids_list[:10])"
   ]
  },
  {
   "cell_type": "markdown",
   "id": "078fdb89-a0a6-49d2-8894-f08e1c110497",
   "metadata": {},
   "source": [
    "# 4. Filter Original Sequence\n",
    "- Creates a new sequence containing only the accesses to the identified popular objects\n",
    "- The temporal order of these accesses is preserved\n",
    "- Further limits this filtered sequence to the first `MAX_FILTERED_SEQUENCES_TO_KEEP` elements"
   ]
  },
  {
   "cell_type": "code",
   "execution_count": 6,
   "id": "a8738060-9cf4-482a-9c18-c57cb641081c",
   "metadata": {},
   "outputs": [
    {
     "name": "stdout",
     "output_type": "stream",
     "text": [
      "Filtering the original sequence for initially popular objects...\n",
      "Original sequence length: 45623306\n",
      "Length after filtering for initially popular objects: 45623306\n",
      "Limiting the popular-only sequence from 45623306 to the first 15000 elements.\n",
      "Final sequence length to be used for training: 15000\n",
      "Actual number of unique objects in the final 15000-element sequence: 7588\n",
      "First 10 objects in the final vocabulary (if available): [2890813961931749, 8895774005720897, 15011980255538162, 19339850754295784, 22706151954170961, 24207063545345919, 25074599234442272, 25663089186828960, 28203062247696373, 32216709220688372]\n"
     ]
    }
   ],
   "source": [
    "final_filtered_sequence = []\n",
    "final_list_of_objects_for_vocab = []\n",
    "\n",
    "if all_obj_ids_sequence and initial_top_popular_object_ids_set:\n",
    "    print(\"Filtering the original sequence for initially popular objects...\")\n",
    "    # Step 1: Filter for initially popular objects\n",
    "    sequence_of_popular_only = [obj_id for obj_id in all_obj_ids_sequence if obj_id in initial_top_popular_object_ids_set]\n",
    "    \n",
    "    print(f\"Original sequence length: {len(all_obj_ids_sequence)}\")\n",
    "    print(f\"Length after filtering for initially popular objects: {len(sequence_of_popular_only)}\")\n",
    "\n",
    "    # Step 2: Limit to the first MAX_FILTERED_SEQUENCE_LENGTH elements\n",
    "    if len(sequence_of_popular_only) > MAX_FILTERED_SEQUENCE_LENGTH:\n",
    "        print(f\"Limiting the popular-only sequence from {len(sequence_of_popular_only)} to the first {MAX_FILTERED_SEQUENCE_LENGTH} elements.\")\n",
    "        final_filtered_sequence = sequence_of_popular_only[:MAX_FILTERED_SEQUENCE_LENGTH]\n",
    "    else:\n",
    "        final_filtered_sequence = sequence_of_popular_only\n",
    "        print(f\"Popular-only sequence length ({len(final_filtered_sequence)}) is within or equal to the limit of {MAX_FILTERED_SEQUENCE_LENGTH}.\")\n",
    "\n",
    "    print(f\"Final sequence length to be used for training: {len(final_filtered_sequence)}\")\n",
    "    \n",
    "    if not final_filtered_sequence:\n",
    "        print(\"Warning: The final filtered sequence is empty.\")\n",
    "    else:\n",
    "        # Step 3: Derive the actual vocabulary from this final_filtered_sequence\n",
    "        actual_objects_in_final_sequence = Counter(final_filtered_sequence).keys()\n",
    "        final_list_of_objects_for_vocab = sorted(list(actual_objects_in_final_sequence))\n",
    "        print(f\"Actual number of unique objects in the final {len(final_filtered_sequence)}-element sequence: {len(final_list_of_objects_for_vocab)}\")\n",
    "        print(f\"First 10 objects in the final vocabulary (if available): {final_list_of_objects_for_vocab[:10]}\")\n",
    "\n",
    "elif not initial_top_popular_object_ids_set:\n",
    "     print(\"Skipping sequence filtering as no initial popular objects were identified.\")\n",
    "else: # all_obj_ids_sequence is empty\n",
    "    print(\"Skipping sequence filtering as the initial sequence was empty.\")"
   ]
  },
  {
   "cell_type": "markdown",
   "id": "8d1daed7-3554-4e18-9274-621a6c88a4b4",
   "metadata": {},
   "source": [
    "# 5. Save Processed Data\n",
    "- Saves the `filtered_obj_ids_sequence` (lsit of raw obj_ids, on order, containing only popular ones)\n",
    "- Saves the `sorted_popular_object_ids_list` (the list of unique popular obj_ids, defines the vocabulary scope)\n",
    "- These are saved into a single pickle file"
   ]
  },
  {
   "cell_type": "code",
   "execution_count": 7,
   "id": "e4cb6dee-c71c-43de-904e-df2b86a503cc",
   "metadata": {},
   "outputs": [
    {
     "name": "stdout",
     "output_type": "stream",
     "text": [
      "Saving processed data to processed_cache_data.pkl...\n",
      "Processed data saved successfully.\n",
      "  - Saved filtered sequence length: 15000\n",
      "  - Number of unique objects in final vocab: 7588\n"
     ]
    }
   ],
   "source": [
    "if final_filtered_sequence and final_list_of_objects_for_vocab: \n",
    "    processed_data = {\n",
    "        'filtered_sequence_popular_obj_ids': final_filtered_sequence,\n",
    "        'list_of_popular_obj_ids': final_list_of_objects_for_vocab \n",
    "    }\n",
    "\n",
    "    print(f\"Saving processed data to {PROCESSED_DATA_PICKLE_PATH}...\")\n",
    "    try:\n",
    "        with open(PROCESSED_DATA_PICKLE_PATH, 'wb') as f:\n",
    "            pickle.dump(processed_data, f)\n",
    "        print(\"Processed data saved successfully.\")\n",
    "        print(f\"  - Saved filtered sequence length: {len(processed_data['filtered_sequence_popular_obj_ids'])}\")\n",
    "        print(f\"  - Number of unique objects in final vocab: {len(processed_data['list_of_popular_obj_ids'])}\")\n",
    "    except Exception as e:\n",
    "        print(f\"Error saving processed data: {e}\")\n",
    "else:\n",
    "    print(\"No processed data to save: either the final filtered sequence or the final vocabulary is empty.\")"
   ]
  }
 ],
 "metadata": {
  "kernelspec": {
   "display_name": "Python 3 (ipykernel)",
   "language": "python",
   "name": "python3"
  },
  "language_info": {
   "codemirror_mode": {
    "name": "ipython",
    "version": 3
   },
   "file_extension": ".py",
   "mimetype": "text/x-python",
   "name": "python",
   "nbconvert_exporter": "python",
   "pygments_lexer": "ipython3",
   "version": "3.10.12"
  }
 },
 "nbformat": 4,
 "nbformat_minor": 5
}
